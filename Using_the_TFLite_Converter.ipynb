{
  "nbformat": 4,
  "nbformat_minor": 0,
  "metadata": {
    "colab": {
      "provenance": [],
      "authorship_tag": "ABX9TyMKv1UCi7wOLE1Wsxs0Bw/z",
      "include_colab_link": true
    },
    "kernelspec": {
      "name": "python3",
      "display_name": "Python 3"
    },
    "language_info": {
      "name": "python"
    }
  },
  "cells": [
    {
      "cell_type": "markdown",
      "metadata": {
        "id": "view-in-github",
        "colab_type": "text"
      },
      "source": [
        "<a href=\"https://colab.research.google.com/github/Al1952/Final_Exam_Data_Analysis_with_Python/blob/master/Using_the_TFLite_Converter.ipynb\" target=\"_parent\"><img src=\"https://colab.research.google.com/assets/colab-badge.svg\" alt=\"Open In Colab\"/></a>"
      ]
    },
    {
      "cell_type": "code",
      "execution_count": null,
      "metadata": {
        "colab": {
          "base_uri": "https://localhost:8080/"
        },
        "id": "m7XS4H4rY6T9",
        "outputId": "23d9d5ff-08a8-4c64-b7ee-5826ccbd2aad"
      },
      "outputs": [
        {
          "output_type": "stream",
          "name": "stdout",
          "text": [
            "Colab only includes TensorFlow 2.x; %tensorflow_version has no effect.\n"
          ]
        }
      ],
      "source": [
        "try:\n",
        "  # tensorflow_version only exists in Colab\n",
        "   %tensorflow_version 2.x\n",
        "except Exception:\n",
        "  pass"
      ]
    },
    {
      "cell_type": "code",
      "source": [
        "import tensorflow as tf\n",
        "import numpy as np\n",
        "from tensorflow.keras import Sequential\n",
        "from tensorflow.keras.layers import Dense"
      ],
      "metadata": {
        "id": "TATZijSkZDb6"
      },
      "execution_count": null,
      "outputs": []
    },
    {
      "cell_type": "code",
      "source": [],
      "metadata": {
        "id": "uPDLbnN0ZDfH"
      },
      "execution_count": null,
      "outputs": []
    },
    {
      "cell_type": "code",
      "source": [
        "ten = Dense(units =1, input_shape = [1])\n",
        "model = Sequential(Dense(units =1, input_shape = [1]))\n",
        "model.compile (optimizer = 'sgd', loss = 'mean_squared_error')\n",
        "\n",
        "xs = np.array([-1.0, 0.0, 1.0,2.0,3.0,4.0],dtype=float)\n",
        "ys = np.array([-3.0,-1.0,1.0,3.0,5.0,7.0], dtype =  float)\n",
        "\n",
        "model.fit(xs,ys, epochs=500)\n"
      ],
      "metadata": {
        "id": "0o5BJbMtZDh7"
      },
      "execution_count": null,
      "outputs": []
    },
    {
      "cell_type": "code",
      "source": [
        "print(model.predict([10.0]))\n",
        "#print ('here is what I learned: {}'.format(ten.get_weights()))"
      ],
      "metadata": {
        "colab": {
          "base_uri": "https://localhost:8080/"
        },
        "id": "GZwDf-ncZDk7",
        "outputId": "20468135-945b-4450-c1ac-ef06ad8ff430"
      },
      "execution_count": null,
      "outputs": [
        {
          "output_type": "stream",
          "name": "stdout",
          "text": [
            "1/1 [==============================] - 0s 44ms/step\n",
            "[[18.977083]]\n",
            "here is what I learned: []\n"
          ]
        }
      ]
    },
    {
      "cell_type": "code",
      "source": [
        "# Save the model and put it into the directory\n",
        "\n",
        "export_dir = 'saved_model/1'\n",
        "tf.saved_model.save(model, export_dir)"
      ],
      "metadata": {
        "colab": {
          "base_uri": "https://localhost:8080/"
        },
        "id": "W0TLNd7aZDn1",
        "outputId": "c62621d4-bb40-4714-d053-974b3ecfae01"
      },
      "execution_count": null,
      "outputs": [
        {
          "output_type": "stream",
          "name": "stderr",
          "text": [
            "WARNING:absl:Found untraced functions such as _update_step_xla while saving (showing 1 of 1). These functions will not be directly callable after loading.\n"
          ]
        }
      ]
    },
    {
      "cell_type": "code",
      "source": [
        "#convert the model\n",
        "converter = tf.lite.TFLiteConverter.from_saved_model(export_dir)  # takes data from the saved model in directory\n",
        "tflite_model =  converter.convert()  # converts it into tflite\n"
      ],
      "metadata": {
        "id": "nyDz6_D7ZDqz"
      },
      "execution_count": null,
      "outputs": []
    },
    {
      "cell_type": "code",
      "source": [
        "import pathlib\n",
        "tflite_model_file =  pathlib.Path('model.tflite')\n",
        "tflite_model_file.write_bytes (tflite_model)\n",
        "\n",
        "# gives the size of the file"
      ],
      "metadata": {
        "colab": {
          "base_uri": "https://localhost:8080/"
        },
        "id": "w_W7GWWrZDtZ",
        "outputId": "ff17559d-ea1b-430e-d731-560d643b8bc1"
      },
      "execution_count": null,
      "outputs": [
        {
          "output_type": "execute_result",
          "data": {
            "text/plain": [
              "1092"
            ]
          },
          "metadata": {},
          "execution_count": 26
        }
      ]
    },
    {
      "cell_type": "code",
      "source": [
        "# Load TFLite model and allocate tensors.\n",
        "# uses python stand alone interpreter for tflite\n",
        "interpreter = tf.lite.Interpreter (model_content=tflite_model)\n",
        "interpreter.allocate_tensors()\n",
        "\n",
        "# Get input and output tensors\n",
        "input_details = interpreter.get_input_details()\n",
        "output_details =  interpreter.get_output_details()\n",
        "print (input_details )\n",
        "print (output_details )\n"
      ],
      "metadata": {
        "colab": {
          "base_uri": "https://localhost:8080/"
        },
        "id": "49n7rasgZDwQ",
        "outputId": "e4bbfc97-8679-4da6-d044-3b4d1aed767c"
      },
      "execution_count": null,
      "outputs": [
        {
          "output_type": "stream",
          "name": "stdout",
          "text": [
            "[{'name': 'serving_default_dense_3_input:0', 'index': 0, 'shape': array([1, 1], dtype=int32), 'shape_signature': array([-1,  1], dtype=int32), 'dtype': <class 'numpy.float32'>, 'quantization': (0.0, 0), 'quantization_parameters': {'scales': array([], dtype=float32), 'zero_points': array([], dtype=int32), 'quantized_dimension': 0}, 'sparsity_parameters': {}}]\n",
            "[{'name': 'StatefulPartitionedCall:0', 'index': 3, 'shape': array([1, 1], dtype=int32), 'shape_signature': array([-1,  1], dtype=int32), 'dtype': <class 'numpy.float32'>, 'quantization': (0.0, 0), 'quantization_parameters': {'scales': array([], dtype=float32), 'zero_points': array([], dtype=int32), 'quantized_dimension': 0}, 'sparsity_parameters': {}}]\n"
          ]
        }
      ]
    },
    {
      "cell_type": "code",
      "source": [
        "to_predict = np.array ([[10.0]],dtype = np.float32)\n",
        "print ('to_predict',to_predict)\n",
        "\n",
        "# this line sets the value of the tensor to predict to 10\n",
        "interpreter.set_tensor (input_details[0] ['index'],to_predict)\n",
        "\n",
        "# invoke the interpreter\n",
        "interpreter.invoke()\n",
        "\n",
        "# read the results\n",
        "tflite_results = interpreter.get_tensor(output_details[0]['index'])\n",
        "print ('tflite_results', tflite_results)\n",
        "\n",
        "# so we passed in the value '10', and got out the value '18.977083'\n",
        "\n",
        "\n",
        "#  So it shows that tensorflow lite is giving the same output as tensor flow"
      ],
      "metadata": {
        "colab": {
          "base_uri": "https://localhost:8080/"
        },
        "id": "FavM-mgAZDzE",
        "outputId": "9fb55594-d604-45b9-f198-2af9c6692e27"
      },
      "execution_count": null,
      "outputs": [
        {
          "output_type": "stream",
          "name": "stdout",
          "text": [
            "to_predict [[10.]]\n",
            "tflite_results [[18.977083]]\n"
          ]
        }
      ]
    },
    {
      "cell_type": "code",
      "source": [],
      "metadata": {
        "id": "TjPdIXtRZD1j"
      },
      "execution_count": null,
      "outputs": []
    }
  ]
}