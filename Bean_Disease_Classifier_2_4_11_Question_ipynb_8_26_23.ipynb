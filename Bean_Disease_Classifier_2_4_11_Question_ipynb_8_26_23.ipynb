{
  "cells": [
    {
      "cell_type": "markdown",
      "metadata": {
        "id": "view-in-github",
        "colab_type": "text"
      },
      "source": [
        "<a href=\"https://colab.research.google.com/github/Al1952/Final_Exam_Data_Analysis_with_Python/blob/master/Bean_Disease_Classifier_2_4_11_Question_ipynb_8_26_23.ipynb\" target=\"_parent\"><img src=\"https://colab.research.google.com/assets/colab-badge.svg\" alt=\"Open In Colab\"/></a>"
      ]
    },
    {
      "cell_type": "markdown",
      "metadata": {
        "id": "ktqTCGHJw-ws"
      },
      "source": [
        "# Bean Disease Classifier\n",
        "For this assignment you'll take what you've learned so far and build a classifier for bean disease. You'll be provided with training and validation data based on 224x224 pixel color images taken of bean plants in Uganda. These images show healthy bean leaves as well as 2 types of common disease: bean rust and angular leaf spots. Your job will be to build a neural network that can tell the difference between the healthy and diseased leaves.\n",
        "\n",
        "We start by setting up the problem for you."
      ]
    },
    {
      "cell_type": "code",
      "execution_count": null,
      "metadata": {
        "id": "wmnkg6vGbX1t",
        "outputId": "fe1e9fc4-5234-43eb-c21f-b5c83110032e",
        "colab": {
          "base_uri": "https://localhost:8080/"
        }
      },
      "outputs": [
        {
          "output_type": "stream",
          "name": "stdout",
          "text": [
            "Colab only includes TensorFlow 2.x; %tensorflow_version has no effect.\n"
          ]
        }
      ],
      "source": [
        "# Do not change this code\n",
        "try:\n",
        "  # %tensorflow_version only exists in Colab.\n",
        "  %tensorflow_version 2.x\n",
        "except Exception:\n",
        "  pass"
      ]
    },
    {
      "cell_type": "code",
      "execution_count": null,
      "metadata": {
        "id": "lRV-f1DSwwiC",
        "outputId": "d46f4af9-961c-47bf-ecc8-b77ea0c1368e",
        "colab": {
          "base_uri": "https://localhost:8080/"
        }
      },
      "outputs": [
        {
          "output_type": "stream",
          "name": "stdout",
          "text": [
            "Requirement already satisfied: gdown in /usr/local/lib/python3.10/dist-packages (4.6.6)\n",
            "Collecting gdown\n",
            "  Downloading gdown-4.7.1-py3-none-any.whl (15 kB)\n",
            "Requirement already satisfied: filelock in /usr/local/lib/python3.10/dist-packages (from gdown) (3.12.2)\n",
            "Requirement already satisfied: requests[socks] in /usr/local/lib/python3.10/dist-packages (from gdown) (2.31.0)\n",
            "Requirement already satisfied: six in /usr/local/lib/python3.10/dist-packages (from gdown) (1.16.0)\n",
            "Requirement already satisfied: tqdm in /usr/local/lib/python3.10/dist-packages (from gdown) (4.66.1)\n",
            "Requirement already satisfied: beautifulsoup4 in /usr/local/lib/python3.10/dist-packages (from gdown) (4.11.2)\n",
            "Requirement already satisfied: soupsieve>1.2 in /usr/local/lib/python3.10/dist-packages (from beautifulsoup4->gdown) (2.4.1)\n",
            "Requirement already satisfied: charset-normalizer<4,>=2 in /usr/local/lib/python3.10/dist-packages (from requests[socks]->gdown) (3.2.0)\n",
            "Requirement already satisfied: idna<4,>=2.5 in /usr/local/lib/python3.10/dist-packages (from requests[socks]->gdown) (3.4)\n",
            "Requirement already satisfied: urllib3<3,>=1.21.1 in /usr/local/lib/python3.10/dist-packages (from requests[socks]->gdown) (2.0.4)\n",
            "Requirement already satisfied: certifi>=2017.4.17 in /usr/local/lib/python3.10/dist-packages (from requests[socks]->gdown) (2023.7.22)\n",
            "Requirement already satisfied: PySocks!=1.5.7,>=1.5.6 in /usr/local/lib/python3.10/dist-packages (from requests[socks]->gdown) (1.7.1)\n",
            "Installing collected packages: gdown\n",
            "  Attempting uninstall: gdown\n",
            "    Found existing installation: gdown 4.6.6\n",
            "    Uninstalling gdown-4.6.6:\n",
            "      Successfully uninstalled gdown-4.6.6\n",
            "Successfully installed gdown-4.7.1\n"
          ]
        }
      ],
      "source": [
        "# Do not change this code\n",
        "!pip install --upgrade --no-cache-dir gdown"
      ]
    },
    {
      "cell_type": "code",
      "source": [
        "#Will need the following imports to run the program\n",
        "\n",
        "import os\n",
        "import zipfile\n",
        "import numpy as np\n",
        "\n",
        "import matplotlib.pyplot as plt\n",
        "import matplotlib.image as mpimg\n",
        "\n",
        "import tensorflow as tf\n",
        "from tensorflow import keras\n",
        "import tensorflow_datasets as tfds\n",
        "from tensorflow.keras.preprocessing.image import ImageDataGenerator\n",
        "from google.colab import files\n",
        "from keras.preprocessing import image\n",
        "import random\n",
        "from tensorflow.keras.preprocessing.image import img_to_array, load_img\n",
        "\n"
      ],
      "metadata": {
        "id": "HlQ_hHntQiRv"
      },
      "execution_count": null,
      "outputs": []
    },
    {
      "cell_type": "code",
      "execution_count": null,
      "metadata": {
        "id": "njf4YhwFb6hW",
        "outputId": "bbbbc0af-1c52-419d-f8ac-1d64c8ff6e2b",
        "colab": {
          "base_uri": "https://localhost:8080/"
        }
      },
      "outputs": [
        {
          "output_type": "stream",
          "name": "stdout",
          "text": [
            "Downloading...\n",
            "From: https://storage.googleapis.com/learning-datasets/beans/train.zip\n",
            "To: /tmp/train.zip\n",
            "100% 144M/144M [00:05<00:00, 24.4MB/s]\n",
            "Downloading...\n",
            "From: https://storage.googleapis.com/learning-datasets/beans/validation.zip\n",
            "To: /tmp/validation.zip\n",
            "100% 18.5M/18.5M [00:01<00:00, 16.8MB/s]\n",
            "Downloading...\n",
            "From: https://storage.googleapis.com/learning-datasets/beans/test.zip\n",
            "To: /tmp/test.zip\n",
            "100% 17.7M/17.7M [00:01<00:00, 16.6MB/s]\n"
          ]
        }
      ],
      "source": [
        "# Do not change this code\n",
        "!gdown \"https://storage.googleapis.com/learning-datasets/beans/train.zip\" -O /tmp/train.zip\n",
        "!gdown \"https://storage.googleapis.com/learning-datasets/beans/validation.zip\" -O /tmp/validation.zip\n",
        "!gdown \"https://storage.googleapis.com/learning-datasets/beans/test.zip\" -O /tmp/test.zip"
      ]
    },
    {
      "cell_type": "code",
      "execution_count": null,
      "metadata": {
        "id": "KscpTrSWcK1T"
      },
      "outputs": [],
      "source": [
        "# Do not change this code\n",
        "#  Only need this for the assignment--when I do it in real life, will use the method in below cells to import prepared Google datasets\n",
        "import os\n",
        "import zipfile\n",
        "\n",
        "local_zip = '/tmp/train.zip'\n",
        "zip_ref = zipfile.ZipFile(local_zip, 'r')\n",
        "zip_ref.extractall('/tmp')\n",
        "local_zip = '/tmp/validation.zip'\n",
        "zip_ref = zipfile.ZipFile(local_zip, 'r')\n",
        "zip_ref.extractall('/tmp')\n",
        "local_zip = '/tmp/test.zip'\n",
        "zip_ref = zipfile.ZipFile(local_zip, 'r')\n",
        "zip_ref.extractall('/tmp/test')\n",
        "zip_ref.close()"
      ]
    },
    {
      "cell_type": "code",
      "source": [
        "# Directory with our training BEAN pictures for assignment\n",
        "\n",
        "beans_dir = os.path.join('/tmp/train')\n",
        "# Directory with our validation bean pictures\n",
        "validation_bean_dir = os.path.join('/tmp/validation')\n",
        "# Directory with our test bean pictures\n",
        "test_bean_dir = os.path.join('/tmp/test')\n",
        "\n"
      ],
      "metadata": {
        "id": "loyJmfhKKex0"
      },
      "execution_count": null,
      "outputs": []
    },
    {
      "cell_type": "code",
      "source": [
        "#  This is how to load the Google prepared data in the real world--not for assignment\n",
        "# This imports the data, already prepared and cleaned, directly from tfds Google datasets, and explains what's on it\n",
        "\n",
        "#ds = tfds.load('beans', split='train', shuffle_files=True)\n",
        "#assert isinstance(ds, tf.data.Dataset)\n",
        "\n",
        "ds, info = tfds.load('beans', split='train', with_info=True)\n",
        "\n",
        "tfds.as_dataframe(ds.take(4), info)\n",
        "\n",
        "print (info)\n"
      ],
      "metadata": {
        "colab": {
          "base_uri": "https://localhost:8080/"
        },
        "id": "7c1eQsRRxkE4",
        "outputId": "8563f509-2f34-4e81-9994-25a5be0bb885"
      },
      "execution_count": null,
      "outputs": [
        {
          "output_type": "stream",
          "name": "stdout",
          "text": [
            "tfds.core.DatasetInfo(\n",
            "    name='beans',\n",
            "    full_name='beans/0.1.0',\n",
            "    description=\"\"\"\n",
            "    Beans is a dataset of images of beans taken in the field using smartphone\n",
            "    cameras. It consists of 3 classes: 2 disease classes and the healthy class.\n",
            "    Diseases depicted include Angular Leaf Spot and Bean Rust. Data was annotated by\n",
            "    experts from the National Crops Resources Research Institute (NaCRRI) in Uganda\n",
            "    and collected by the Makerere AI research lab.\n",
            "    \"\"\",\n",
            "    homepage='https://github.com/AI-Lab-Makerere/ibean/',\n",
            "    data_path='/root/tensorflow_datasets/beans/0.1.0',\n",
            "    file_format=tfrecord,\n",
            "    download_size=171.69 MiB,\n",
            "    dataset_size=171.63 MiB,\n",
            "    features=FeaturesDict({\n",
            "        'image': Image(shape=(500, 500, 3), dtype=uint8),\n",
            "        'label': ClassLabel(shape=(), dtype=int64, num_classes=3),\n",
            "    }),\n",
            "    supervised_keys=('image', 'label'),\n",
            "    disable_shuffling=False,\n",
            "    splits={\n",
            "        'test': <SplitInfo num_examples=128, num_shards=1>,\n",
            "        'train': <SplitInfo num_examples=1034, num_shards=2>,\n",
            "        'validation': <SplitInfo num_examples=133, num_shards=1>,\n",
            "    },\n",
            "    citation=\"\"\"@ONLINE {beansdata,\n",
            "        author=\"Makerere AI Lab\",\n",
            "        title=\"Bean disease dataset\",\n",
            "        month=\"January\",\n",
            "        year=\"2020\",\n",
            "        url=\"https://github.com/AI-Lab-Makerere/ibean/\"\n",
            "    }\"\"\",\n",
            ")\n"
          ]
        }
      ]
    },
    {
      "cell_type": "code",
      "source": [
        "# This code load a datasets and Only take a single example\n",
        "# Shows the labels of the dataset\n",
        "\n",
        "#ds = tfds.load('mnist', split='train')\n",
        "ds = ds.take(1)  # Only take a single example\n",
        "\n",
        "for example in ds:  # example is `{'image': tf.Tensor, 'label': tf.Tensor}`\n",
        "  print(list(example.keys()))\n",
        "  image = example[\"image\"]\n",
        "  label = example[\"label\"]\n",
        "  print(image.shape, label)\n",
        "  plt.show(example)\n",
        "\n",
        "print()\n",
        "\n",
        "for image, label in tfds.as_numpy(ds):\n",
        "      print(type(image), type(label), label)"
      ],
      "metadata": {
        "colab": {
          "base_uri": "https://localhost:8080/"
        },
        "id": "564ABppiSsDC",
        "outputId": "e9a23559-60ad-497e-c937-e2b34f628e4c"
      },
      "execution_count": null,
      "outputs": [
        {
          "output_type": "stream",
          "name": "stdout",
          "text": [
            "['image', 'label']\n",
            "(500, 500, 3) tf.Tensor(1, shape=(), dtype=int64)\n",
            "\n",
            "<class 'str'> <class 'str'> label\n"
          ]
        }
      ]
    },
    {
      "cell_type": "code",
      "source": [
        "# Show the images in the first 4 of the dataset\n",
        "\n",
        "#  don't need this code line if I already ran it above\n",
        "#ds, info = tfds.load('beans', split='train', with_info=True)\n",
        "\n",
        "tfds.as_dataframe(ds.take(4), info)"
      ],
      "metadata": {
        "colab": {
          "base_uri": "https://localhost:8080/",
          "height": 177
        },
        "id": "YVcKQQu1S6Sy",
        "outputId": "a506672d-808e-442d-d809-0a9d6862d4c7"
      },
      "execution_count": null,
      "outputs": [
        {
          "output_type": "execute_result",
          "data": {
            "text/plain": [
              "                                               image  label\n",
              "0  [[[149, 132, 106], [141, 124, 98], [134, 118, ...      1"
            ],
            "text/html": [
              "\n",
              "  <div id=\"df-dd63cf1d-729c-4c11-800a-d4dd314e854e\" class=\"colab-df-container\">\n",
              "    <style type=\"text/css\">\n",
              "</style>\n",
              "<table id=\"T_ac441\">\n",
              "  <thead>\n",
              "    <tr>\n",
              "      <th class=\"blank level0\" >&nbsp;</th>\n",
              "      <th id=\"T_ac441_level0_col0\" class=\"col_heading level0 col0\" >image</th>\n",
              "      <th id=\"T_ac441_level0_col1\" class=\"col_heading level0 col1\" >label</th>\n",
              "    </tr>\n",
              "  </thead>\n",
              "  <tbody>\n",
              "    <tr>\n",
              "      <th id=\"T_ac441_level0_row0\" class=\"row_heading level0 row0\" >0</th>\n",
              "      <td id=\"T_ac441_row0_col0\" class=\"data row0 col0\" ><img src=\"data:image/png;base64,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\" alt=\"Img\" /></td>\n",
              "      <td id=\"T_ac441_row0_col1\" class=\"data row0 col1\" >1 (bean_rust)</td>\n",
              "    </tr>\n",
              "  </tbody>\n",
              "</table>\n",
              "\n",
              "    <div class=\"colab-df-buttons\">\n",
              "\n",
              "  <div class=\"colab-df-container\">\n",
              "    <button class=\"colab-df-convert\" onclick=\"convertToInteractive('df-dd63cf1d-729c-4c11-800a-d4dd314e854e')\"\n",
              "            title=\"Convert this dataframe to an interactive table.\"\n",
              "            style=\"display:none;\">\n",
              "\n",
              "  <svg xmlns=\"http://www.w3.org/2000/svg\" height=\"24px\" viewBox=\"0 -960 960 960\">\n",
              "    <path d=\"M120-120v-720h720v720H120Zm60-500h600v-160H180v160Zm220 220h160v-160H400v160Zm0 220h160v-160H400v160ZM180-400h160v-160H180v160Zm440 0h160v-160H620v160ZM180-180h160v-160H180v160Zm440 0h160v-160H620v160Z\"/>\n",
              "  </svg>\n",
              "    </button>\n",
              "\n",
              "  <style>\n",
              "    .colab-df-container {\n",
              "      display:flex;\n",
              "      gap: 12px;\n",
              "    }\n",
              "\n",
              "    .colab-df-convert {\n",
              "      background-color: #E8F0FE;\n",
              "      border: none;\n",
              "      border-radius: 50%;\n",
              "      cursor: pointer;\n",
              "      display: none;\n",
              "      fill: #1967D2;\n",
              "      height: 32px;\n",
              "      padding: 0 0 0 0;\n",
              "      width: 32px;\n",
              "    }\n",
              "\n",
              "    .colab-df-convert:hover {\n",
              "      background-color: #E2EBFA;\n",
              "      box-shadow: 0px 1px 2px rgba(60, 64, 67, 0.3), 0px 1px 3px 1px rgba(60, 64, 67, 0.15);\n",
              "      fill: #174EA6;\n",
              "    }\n",
              "\n",
              "    .colab-df-buttons div {\n",
              "      margin-bottom: 4px;\n",
              "    }\n",
              "\n",
              "    [theme=dark] .colab-df-convert {\n",
              "      background-color: #3B4455;\n",
              "      fill: #D2E3FC;\n",
              "    }\n",
              "\n",
              "    [theme=dark] .colab-df-convert:hover {\n",
              "      background-color: #434B5C;\n",
              "      box-shadow: 0px 1px 3px 1px rgba(0, 0, 0, 0.15);\n",
              "      filter: drop-shadow(0px 1px 2px rgba(0, 0, 0, 0.3));\n",
              "      fill: #FFFFFF;\n",
              "    }\n",
              "  </style>\n",
              "\n",
              "    <script>\n",
              "      const buttonEl =\n",
              "        document.querySelector('#df-dd63cf1d-729c-4c11-800a-d4dd314e854e button.colab-df-convert');\n",
              "      buttonEl.style.display =\n",
              "        google.colab.kernel.accessAllowed ? 'block' : 'none';\n",
              "\n",
              "      async function convertToInteractive(key) {\n",
              "        const element = document.querySelector('#df-dd63cf1d-729c-4c11-800a-d4dd314e854e');\n",
              "        const dataTable =\n",
              "          await google.colab.kernel.invokeFunction('convertToInteractive',\n",
              "                                                    [key], {});\n",
              "        if (!dataTable) return;\n",
              "\n",
              "        const docLinkHtml = 'Like what you see? Visit the ' +\n",
              "          '<a target=\"_blank\" href=https://colab.research.google.com/notebooks/data_table.ipynb>data table notebook</a>'\n",
              "          + ' to learn more about interactive tables.';\n",
              "        element.innerHTML = '';\n",
              "        dataTable['output_type'] = 'display_data';\n",
              "        await google.colab.output.renderOutput(dataTable, element);\n",
              "        const docLink = document.createElement('div');\n",
              "        docLink.innerHTML = docLinkHtml;\n",
              "        element.appendChild(docLink);\n",
              "      }\n",
              "    </script>\n",
              "  </div>\n",
              "\n",
              "    </div>\n",
              "  </div>\n"
            ]
          },
          "metadata": {},
          "execution_count": 20
        }
      ]
    },
    {
      "cell_type": "code",
      "source": [
        "info.features\n",
        "print()\n",
        "\n",
        "# prints the # of groups of data--i.e., 3 types of bean pictures in the dataset\n",
        "print(info.features[\"label\"].num_classes)\n",
        "\n",
        "# this gives the names of the groups\n",
        "print(info.features[\"label\"].names)"
      ],
      "metadata": {
        "colab": {
          "base_uri": "https://localhost:8080/"
        },
        "id": "M6M-fa9CTZmh",
        "outputId": "fb87f0de-dac8-49ab-fd9e-2adc20f1e610"
      },
      "execution_count": null,
      "outputs": [
        {
          "output_type": "stream",
          "name": "stdout",
          "text": [
            "\n",
            "3\n",
            "['angular_leaf_spot', 'bean_rust', 'healthy']\n"
          ]
        }
      ]
    },
    {
      "cell_type": "code",
      "source": [
        "#  Shapes of features\n",
        "\n",
        "print(info.features.shape)\n",
        "print(info.features.np_dtype)\n",
        "print(info.features['image'].shape)\n",
        "print(info.features['image'].np_dtype)\n",
        "print()\n",
        "print(list(info.splits.keys()))\n",
        "\n",
        "print()\n",
        "\n",
        "print(info.splits)"
      ],
      "metadata": {
        "colab": {
          "base_uri": "https://localhost:8080/"
        },
        "id": "R6qoElGWTfXZ",
        "outputId": "7ec31d9e-e718-48b6-ce91-92078e756360"
      },
      "execution_count": null,
      "outputs": [
        {
          "output_type": "stream",
          "name": "stdout",
          "text": [
            "{'image': (500, 500, 3), 'label': ()}\n",
            "{'image': <class 'numpy.uint8'>, 'label': <class 'numpy.int64'>}\n",
            "(500, 500, 3)\n",
            "<class 'numpy.uint8'>\n",
            "\n",
            "['train', 'validation', 'test']\n",
            "\n",
            "{'train': <SplitInfo num_examples=1034, num_shards=2>, 'validation': <SplitInfo num_examples=133, num_shards=1>, 'test': <SplitInfo num_examples=128, num_shards=1>}\n"
          ]
        }
      ]
    },
    {
      "cell_type": "markdown",
      "metadata": {
        "id": "5R0WEYIitNwI"
      },
      "source": [
        "Now you need to define a generator to process the data we have loaded in Colab so that our model can use it for training. As we showed in the previous video you'll first have to define an ```ImageDataGenerator``` and then flow the data into it.\n",
        "\n",
        "*A hint: You don't want abnormal data!*"
      ]
    },
    {
      "cell_type": "code",
      "execution_count": null,
      "metadata": {
        "id": "jCiSd248caB4",
        "outputId": "8a61e730-0e38-4f56-e3f0-1386b0491b31",
        "colab": {
          "base_uri": "https://localhost:8080/"
        }
      },
      "outputs": [
        {
          "output_type": "stream",
          "name": "stdout",
          "text": [
            "Found 1034 images belonging to 3 classes.\n",
            "Found 133 images belonging to 3 classes.\n"
          ]
        }
      ],
      "source": [
        "#from tensorflow.keras.preprocessing.image import ImageDataGenerator\n",
        "\n",
        "# this setup is for the assignment\n",
        "# this code aguments the image data, expands the dataset and includes different forms that the data might be in\n",
        "train_datagen = ImageDataGenerator(\n",
        "      rescale=1./255,\n",
        "      rotation_range=40,\n",
        "      width_shift_range=0.4,\n",
        "      #height_shift_range=0.4,\n",
        "      shear_range=0.2,\n",
        "      #zoom_range=0.2,\n",
        "      #horizontal_flip=True,\n",
        "      #fill_mode='nearest'\n",
        "      # YOUR CODE HERE #\n",
        ")\n",
        "\n",
        "validation_datagen = ImageDataGenerator(rescale=1./255\n",
        "      # YOUR CODE HERE #\n",
        ")\n",
        "\n",
        "TRAIN_DIRECTORY_LOCATION  = beans_dir # YOUR CODE HERE #\n",
        "VAL_DIRECTORY_LOCATION = validation_bean_dir # YOUR CODE HERE #\n",
        "\n",
        "# I used the size of the images for the target size\n",
        "TARGET_SIZE = (224,224) # YOUR CODE HERE #\n",
        "\n",
        "# there are three groups of beans, thus I am using categorical\n",
        "# would be binary if there were two groups\n",
        "CLASS_MODE = ('categorical') # YOUR CODE HERE #\n",
        "\n",
        "# The training generator sets up the group of data and does the splits, etc on it\n",
        "train_generator = train_datagen.flow_from_directory(\n",
        "    TRAIN_DIRECTORY_LOCATION,\n",
        "    target_size = TARGET_SIZE,\n",
        "    batch_size = 128,\n",
        "    class_mode = CLASS_MODE\n",
        ")\n",
        "\n",
        "validation_generator = validation_datagen.flow_from_directory(\n",
        "    VAL_DIRECTORY_LOCATION,\n",
        "    target_size = TARGET_SIZE,\n",
        "    batch_size = 128,\n",
        "    class_mode = CLASS_MODE\n",
        ")"
      ]
    },
    {
      "cell_type": "markdown",
      "metadata": {
        "id": "rjpkGy4RtNwJ"
      },
      "source": [
        "Now its your turn to define a model to learn this data.\n",
        "\n",
        "*A hint: Like with the CIFAR-10 assignment, your model may want to learn some high level features and then classify them. This time it may help to make the model a little wider at times.*"
      ]
    },
    {
      "cell_type": "code",
      "execution_count": null,
      "metadata": {
        "id": "vrJt6YSDcqjX",
        "outputId": "0d8dcfa6-567c-452e-be7d-f41e97adbcd4",
        "colab": {
          "base_uri": "https://localhost:8080/"
        }
      },
      "outputs": [
        {
          "output_type": "stream",
          "name": "stdout",
          "text": [
            "Model: \"sequential_3\"\n",
            "_________________________________________________________________\n",
            " Layer (type)                Output Shape              Param #   \n",
            "=================================================================\n",
            " conv2d_10 (Conv2D)          (None, 222, 222, 32)      896       \n",
            "                                                                 \n",
            " max_pooling2d_10 (MaxPoolin  (None, 111, 111, 32)     0         \n",
            " g2D)                                                            \n",
            "                                                                 \n",
            " conv2d_11 (Conv2D)          (None, 109, 109, 64)      18496     \n",
            "                                                                 \n",
            " max_pooling2d_11 (MaxPoolin  (None, 54, 54, 64)       0         \n",
            " g2D)                                                            \n",
            "                                                                 \n",
            " conv2d_12 (Conv2D)          (None, 52, 52, 128)       73856     \n",
            "                                                                 \n",
            " max_pooling2d_12 (MaxPoolin  (None, 26, 26, 128)      0         \n",
            " g2D)                                                            \n",
            "                                                                 \n",
            " flatten_3 (Flatten)         (None, 86528)             0         \n",
            "                                                                 \n",
            " dense_9 (Dense)             (None, 512)               44302848  \n",
            "                                                                 \n",
            " dense_10 (Dense)            (None, 256)               131328    \n",
            "                                                                 \n",
            " dense_11 (Dense)            (None, 3)                 771       \n",
            "                                                                 \n",
            "=================================================================\n",
            "Total params: 44,528,195\n",
            "Trainable params: 44,528,195\n",
            "Non-trainable params: 0\n",
            "_________________________________________________________________\n"
          ]
        }
      ],
      "source": [
        "#import tensorflow as tf\n",
        "from tensorflow.keras import layers\n",
        "from tensorflow.keras import Model\n",
        "\n",
        "model = tf.keras.models.Sequential([\n",
        " # Note the input shape is the desired size of the image with 3 bytes color\n",
        "    # This is the first convolution\n",
        "    # note the input shape is at the size of the pixels used in the images\n",
        "    #tf.keras.layers.Conv2D(16, (3,3), activation='relu', input_shape=(224, 224, 3)),\n",
        "    #tf.keras.layers.MaxPooling2D(2, 2),\n",
        "    tf.keras.layers.Conv2D(32, (3,3), activation='relu', input_shape=(224, 224, 3)),\n",
        "    tf.keras.layers.MaxPooling2D(2, 2),\n",
        "    # The second convolution\n",
        "    tf.keras.layers.Conv2D(64, (3,3), activation='relu'),\n",
        "    tf.keras.layers.MaxPooling2D(2,2),\n",
        "\n",
        " # The third convolution\n",
        "    tf.keras.layers.Conv2D(128, (3,3), activation='relu'),\n",
        "    tf.keras.layers.MaxPooling2D(2,2),\n",
        "\n",
        " # Flatten the results to feed into a DNN\n",
        "    tf.keras.layers.Flatten(),\n",
        "    # 512 neuron hidden layer\n",
        "    tf.keras.layers.Dense(512, activation='relu'),\n",
        "    tf.keras.layers.Dense(256, activation='relu'),\n",
        "    # There are 3 kinds of classes, thus I use 3 neurons\n",
        "\n",
        " # signmoid makes the output per neuron a 0 or a 1, I think\n",
        "    tf.keras.layers.Dense(3, activation='softmax')\n",
        "    #tf.keras.layers.Dense(3, activation='sigmoid')\n",
        "\n",
        "    ])\n",
        "\n",
        "\n",
        "   #YOUR CODE HERE#\n",
        "\n",
        "# This will print a summary of your model when you're done!\n",
        "model.summary()"
      ]
    },
    {
      "cell_type": "markdown",
      "metadata": {
        "id": "O6UOV_PztNwK"
      },
      "source": [
        "Then you'll need to pick an appropriate loss function and optimizer.\n",
        "\n",
        "*A hint: remember we are classifying again.*"
      ]
    },
    {
      "cell_type": "code",
      "execution_count": null,
      "metadata": {
        "id": "nST6CyvCcy-2"
      },
      "outputs": [],
      "source": [
        "#  are many different optimizers that I can try\n",
        "from tensorflow.keras.optimizers import Adam\n",
        "\n",
        "\n",
        "#from tensorflow.keras.losses import sparse_categorical_crossentropy\n",
        "# in colab don't have to import this loss function--think it does have to be imported in real world assignment\n",
        "LOSS_FUNCTION = 'categorical_crossentropy' #YOUR CODE HERE#\n",
        "\n",
        "OPTIMIZER =Adam(learning_rate=0.0001) #YOUR CODE HERE#\n",
        "\n",
        "model.compile(\n",
        "    loss = LOSS_FUNCTION,\n",
        "    optimizer = OPTIMIZER,\n",
        "    metrics = ['accuracy']\n",
        ")"
      ]
    },
    {
      "cell_type": "markdown",
      "metadata": {
        "id": "0EDyhXfgtNwL"
      },
      "source": [
        "Finally select the number of epochs you'd like to train for and train your model!\n",
        "\n",
        "*A hint: something in the low tens is a good place to start*"
      ]
    },
    {
      "cell_type": "code",
      "execution_count": null,
      "metadata": {
        "id": "Q3iK9LX9deu2",
        "outputId": "0ae0f3fa-6ce3-4c33-ffc0-47b50e4fd09e",
        "colab": {
          "base_uri": "https://localhost:8080/",
          "height": 1000
        }
      },
      "outputs": [
        {
          "output_type": "stream",
          "name": "stdout",
          "text": [
            "Epoch 1/20\n",
            "9/9 [==============================] - 23s 2s/step - loss: 1.0822 - accuracy: 0.4130 - val_loss: 1.0004 - val_accuracy: 0.5113\n",
            "Epoch 2/20\n",
            "9/9 [==============================] - 16s 2s/step - loss: 0.9791 - accuracy: 0.5445 - val_loss: 0.8836 - val_accuracy: 0.6466\n",
            "Epoch 3/20\n",
            "9/9 [==============================] - 16s 2s/step - loss: 0.9081 - accuracy: 0.5841 - val_loss: 0.8102 - val_accuracy: 0.6692\n",
            "Epoch 4/20\n",
            "9/9 [==============================] - 16s 2s/step - loss: 0.8867 - accuracy: 0.6025 - val_loss: 0.8008 - val_accuracy: 0.6692\n",
            "Epoch 5/20\n",
            "9/9 [==============================] - 17s 2s/step - loss: 0.8291 - accuracy: 0.6325 - val_loss: 0.8605 - val_accuracy: 0.6391\n",
            "Epoch 6/20\n",
            "9/9 [==============================] - 16s 2s/step - loss: 0.8150 - accuracy: 0.6431 - val_loss: 0.8538 - val_accuracy: 0.6090\n",
            "Epoch 7/20\n",
            "9/9 [==============================] - 17s 2s/step - loss: 0.7920 - accuracy: 0.6567 - val_loss: 0.7603 - val_accuracy: 0.6692\n",
            "Epoch 8/20\n",
            "9/9 [==============================] - 18s 2s/step - loss: 0.7817 - accuracy: 0.6547 - val_loss: 0.7257 - val_accuracy: 0.6692\n",
            "Epoch 9/20\n",
            "9/9 [==============================] - 17s 2s/step - loss: 0.7462 - accuracy: 0.6702 - val_loss: 0.6838 - val_accuracy: 0.7293\n",
            "Epoch 10/20\n",
            "9/9 [==============================] - 17s 2s/step - loss: 0.7810 - accuracy: 0.6489 - val_loss: 0.6493 - val_accuracy: 0.7293\n",
            "Epoch 11/20\n",
            "9/9 [==============================] - 17s 2s/step - loss: 0.7280 - accuracy: 0.6905 - val_loss: 0.6529 - val_accuracy: 0.7143\n",
            "Epoch 12/20\n",
            "9/9 [==============================] - 17s 2s/step - loss: 0.7170 - accuracy: 0.7002 - val_loss: 0.6764 - val_accuracy: 0.6917\n",
            "Epoch 13/20\n",
            "9/9 [==============================] - 19s 2s/step - loss: 0.7108 - accuracy: 0.6886 - val_loss: 0.6097 - val_accuracy: 0.7293\n",
            "Epoch 14/20\n",
            "9/9 [==============================] - 17s 2s/step - loss: 0.6903 - accuracy: 0.7012 - val_loss: 0.5928 - val_accuracy: 0.7368\n",
            "Epoch 15/20\n",
            "9/9 [==============================] - 18s 2s/step - loss: 0.6802 - accuracy: 0.7012 - val_loss: 0.6906 - val_accuracy: 0.6692\n",
            "Epoch 16/20\n",
            "9/9 [==============================] - 16s 2s/step - loss: 0.6903 - accuracy: 0.7186 - val_loss: 0.6974 - val_accuracy: 0.6692\n",
            "Epoch 17/20\n",
            "9/9 [==============================] - 16s 2s/step - loss: 0.6711 - accuracy: 0.7050 - val_loss: 0.6437 - val_accuracy: 0.7293\n",
            "Epoch 18/20\n",
            "9/9 [==============================] - 16s 2s/step - loss: 0.7018 - accuracy: 0.6789 - val_loss: 0.5814 - val_accuracy: 0.7594\n",
            "Epoch 19/20\n",
            "9/9 [==============================] - 16s 2s/step - loss: 0.6520 - accuracy: 0.7186 - val_loss: 0.5751 - val_accuracy: 0.7218\n",
            "Epoch 20/20\n",
            "9/9 [==============================] - 16s 2s/step - loss: 0.6356 - accuracy: 0.7292 - val_loss: 0.5183 - val_accuracy: 0.7744\n"
          ]
        },
        {
          "output_type": "display_data",
          "data": {
            "text/plain": [
              "<Figure size 640x480 with 1 Axes>"
            ],
            "image/png": "[encoded data removed]"
          },
          "metadata": {}
        }
      ],
      "source": [
        "# When initially figuring out the code, just run a few epochs so it will go fast\n",
        "#  need to increase the number of epochs when I run the final model, as many as 100\n",
        "\n",
        "NUM_EPOCHS = 20 #YOUR CODE HERE#\n",
        "\n",
        "history = model.fit(\n",
        "      train_generator,\n",
        "      epochs = NUM_EPOCHS,\n",
        "      verbose = 1,\n",
        "      validation_data = validation_generator)\n",
        "\n",
        "# summarize history for accuracy\n",
        "import matplotlib.pyplot as plt\n",
        "plt.plot(history.history['accuracy'])\n",
        "plt.plot(history.history['val_accuracy'])\n",
        "plt.title('model accuracy')\n",
        "plt.ylabel('accuracy')\n",
        "plt.xlabel('epoch')\n",
        "plt.legend(['train', 'test'], loc='upper left')\n",
        "plt.xlim([0,NUM_EPOCHS])\n",
        "plt.ylim([0.4,1.0])\n",
        "plt.show()"
      ]
    },
    {
      "cell_type": "markdown",
      "source": [
        "###SOLUTION TO ASSIGNMENT"
      ],
      "metadata": {
        "id": "SfepQhrc1bTd"
      }
    },
    {
      "cell_type": "markdown",
      "source": [
        "###If you wanted you could have gone further and applied additional image augmentation techniques to the training Generator to have a better dataset for training. A possible solution could be:"
      ],
      "metadata": {
        "id": "rpy8BFk31sJg"
      }
    },
    {
      "cell_type": "code",
      "source": [
        "train_datagen = ImageDataGenerator(\n",
        "\n",
        "    rescale=1./255,\n",
        "\n",
        "    rotation_range=40,\n",
        "\n",
        "    width_shift_range=0.2,\n",
        "\n",
        "    height_shift_range=0.2,\n",
        "\n",
        "    shear_range=0.2,\n",
        "\n",
        "    zoom_range=0.2,\n",
        "\n",
        "    horizontal_flip=True,\n",
        "\n",
        "    fill_mode='nearest'\n",
        "\n",
        ")"
      ],
      "metadata": {
        "id": "NHjEmgUU1Zh6"
      },
      "execution_count": null,
      "outputs": []
    },
    {
      "cell_type": "code",
      "source": [
        "# This is the proposed model architecture in the solution of the homework assignment\n",
        "\n",
        "model = tf.keras.models.Sequential([\n",
        "\n",
        "   # Find the features with Convolutions and Pooling\n",
        "\n",
        "   tf.keras.layers.Conv2D(16, (3,3), activation='relu', input_shape=(224, 224, 3)),\n",
        "\n",
        "   tf.keras.layers.MaxPooling2D(2, 2),\n",
        "\n",
        "   tf.keras.layers.Conv2D(32, (3,3), activation='relu'),\n",
        "\n",
        "   tf.keras.layers.MaxPooling2D(2,2),\n",
        "\n",
        "   tf.keras.layers.Conv2D(64, (3,3), activation='relu'),\n",
        "\n",
        "   tf.keras.layers.MaxPooling2D(2,2),\n",
        "\n",
        "   tf.keras.layers.Conv2D(128, (3,3), activation='relu'),\n",
        "\n",
        "   tf.keras.layers.MaxPooling2D(2,2),\n",
        "\n",
        "   # Flatten the results to feed into a DNN\n",
        "\n",
        "   tf.keras.layers.Flatten(),\n",
        "\n",
        "   # 512 neuron hidden layer\n",
        "\n",
        "   tf.keras.layers.Dense(512, activation='relu'),\n",
        "\n",
        "   tf.keras.layers.Dense(3, activation='softmax')\n",
        "\n",
        "])"
      ],
      "metadata": {
        "id": "fj1se_kz1Zph"
      },
      "execution_count": null,
      "outputs": []
    },
    {
      "cell_type": "code",
      "source": [
        "OPTIMIZER = 'adam'\n",
        "\n",
        "LOSS_FUNCTION = 'categorical_crossentropy'"
      ],
      "metadata": {
        "id": "CcvKVZDe1ZtF"
      },
      "execution_count": null,
      "outputs": []
    },
    {
      "cell_type": "code",
      "source": [
        "from tensorflow.keras.optimizers import RMSprop\n",
        "\n",
        "OPTIMIZER = RMSprop(lr=0.0001)"
      ],
      "metadata": {
        "id": "qR4U6pX41Zwj"
      },
      "execution_count": null,
      "outputs": []
    },
    {
      "cell_type": "code",
      "source": [],
      "metadata": {
        "id": "FvseXG9R1Z04"
      },
      "execution_count": null,
      "outputs": []
    }
  ],
  "metadata": {
    "accelerator": "GPU",
    "colab": {
      "provenance": [],
      "include_colab_link": true
    },
    "kernelspec": {
      "display_name": "Python 3",
      "language": "python",
      "name": "python3"
    },
    "language_info": {
      "codemirror_mode": {
        "name": "ipython",
        "version": 3
      },
      "file_extension": ".py",
      "mimetype": "text/x-python",
      "name": "python",
      "nbconvert_exporter": "python",
      "pygments_lexer": "ipython3",
      "version": "3.6.9"
    }
  },
  "nbformat": 4,
  "nbformat_minor": 0
}